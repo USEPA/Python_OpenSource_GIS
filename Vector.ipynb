{
 "cells": [
  {
   "cell_type": "markdown",
   "id": "d167b576",
   "metadata": {},
   "source": [
    "# Vector Analysis"
   ]
  },
  {
   "cell_type": "code",
   "execution_count": 1,
   "id": "7bdb1c31",
   "metadata": {},
   "outputs": [],
   "source": [
    "import geopandas"
   ]
  },
  {
   "cell_type": "markdown",
   "id": "f67fa2bf",
   "metadata": {},
   "source": [
    "## Reading in a shapefile"
   ]
  },
  {
   "cell_type": "code",
   "execution_count": 2,
   "id": "079b4f45",
   "metadata": {},
   "outputs": [
    {
     "data": {
      "text/html": [
       "<div>\n",
       "<style scoped>\n",
       "    .dataframe tbody tr th:only-of-type {\n",
       "        vertical-align: middle;\n",
       "    }\n",
       "\n",
       "    .dataframe tbody tr th {\n",
       "        vertical-align: top;\n",
       "    }\n",
       "\n",
       "    .dataframe thead th {\n",
       "        text-align: right;\n",
       "    }\n",
       "</style>\n",
       "<table border=\"1\" class=\"dataframe\">\n",
       "  <thead>\n",
       "    <tr style=\"text-align: right;\">\n",
       "      <th></th>\n",
       "      <th>AREA</th>\n",
       "      <th>PERIMETER</th>\n",
       "      <th>CITIES_</th>\n",
       "      <th>CITIES_ID</th>\n",
       "      <th>CITY</th>\n",
       "      <th>FLAG</th>\n",
       "      <th>geometry</th>\n",
       "    </tr>\n",
       "  </thead>\n",
       "  <tbody>\n",
       "    <tr>\n",
       "      <th>0</th>\n",
       "      <td>0.0</td>\n",
       "      <td>0.0</td>\n",
       "      <td>1</td>\n",
       "      <td>1658</td>\n",
       "      <td>MULINO</td>\n",
       "      <td>0</td>\n",
       "      <td>POINT (776899.812 1272019.125)</td>\n",
       "    </tr>\n",
       "    <tr>\n",
       "      <th>1</th>\n",
       "      <td>0.0</td>\n",
       "      <td>0.0</td>\n",
       "      <td>2</td>\n",
       "      <td>1368</td>\n",
       "      <td>HAMMOND</td>\n",
       "      <td>0</td>\n",
       "      <td>POINT (439320.844 1638725.000)</td>\n",
       "    </tr>\n",
       "    <tr>\n",
       "      <th>2</th>\n",
       "      <td>0.0</td>\n",
       "      <td>0.0</td>\n",
       "      <td>3</td>\n",
       "      <td>1366</td>\n",
       "      <td>FORT STEVENS</td>\n",
       "      <td>0</td>\n",
       "      <td>POINT (435108.000 1641590.750)</td>\n",
       "    </tr>\n",
       "    <tr>\n",
       "      <th>3</th>\n",
       "      <td>0.0</td>\n",
       "      <td>0.0</td>\n",
       "      <td>4</td>\n",
       "      <td>1382</td>\n",
       "      <td>GLIFTON</td>\n",
       "      <td>0</td>\n",
       "      <td>POINT (560721.000 1638699.875)</td>\n",
       "    </tr>\n",
       "    <tr>\n",
       "      <th>4</th>\n",
       "      <td>0.0</td>\n",
       "      <td>0.0</td>\n",
       "      <td>5</td>\n",
       "      <td>1384</td>\n",
       "      <td>BRADWOOD</td>\n",
       "      <td>0</td>\n",
       "      <td>POINT (568325.812 1632800.000)</td>\n",
       "    </tr>\n",
       "  </tbody>\n",
       "</table>\n",
       "</div>"
      ],
      "text/plain": [
       "   AREA  PERIMETER  CITIES_  CITIES_ID          CITY  FLAG  \\\n",
       "0   0.0        0.0        1       1658        MULINO     0   \n",
       "1   0.0        0.0        2       1368       HAMMOND     0   \n",
       "2   0.0        0.0        3       1366  FORT STEVENS     0   \n",
       "3   0.0        0.0        4       1382       GLIFTON     0   \n",
       "4   0.0        0.0        5       1384      BRADWOOD     0   \n",
       "\n",
       "                         geometry  \n",
       "0  POINT (776899.812 1272019.125)  \n",
       "1  POINT (439320.844 1638725.000)  \n",
       "2  POINT (435108.000 1641590.750)  \n",
       "3  POINT (560721.000 1638699.875)  \n",
       "4  POINT (568325.812 1632800.000)  "
      ]
     },
     "execution_count": 2,
     "metadata": {},
     "output_type": "execute_result"
    }
   ],
   "source": [
    "# File path\n",
    "cities = geopandas.read_file('/vsicurl/https://github.com/mhweber/Rspatialworkshop/raw/master/inst/extdata/cities.shp')\n",
    "# Check input data\n",
    "cities.head()"
   ]
  },
  {
   "cell_type": "code",
   "execution_count": 3,
   "id": "b2e183ed",
   "metadata": {},
   "outputs": [
    {
     "data": {
      "text/plain": [
       "geopandas.geodataframe.GeoDataFrame"
      ]
     },
     "execution_count": 3,
     "metadata": {},
     "output_type": "execute_result"
    }
   ],
   "source": [
    "# object type is GeoDataFrame\n",
    "type(cities)"
   ]
  },
  {
   "cell_type": "markdown",
   "id": "2c797840",
   "metadata": {},
   "source": [
    "## geopandas.GeoDataFrame is a subclass of pandas.Dataframe - all the pandas functinoality is available to use on it"
   ]
  },
  {
   "cell_type": "code",
   "execution_count": 4,
   "id": "992e65f6",
   "metadata": {},
   "outputs": [
    {
     "data": {
      "text/plain": [
       "pandas.core.series.Series"
      ]
     },
     "execution_count": 4,
     "metadata": {},
     "output_type": "execute_result"
    }
   ],
   "source": [
    "type(cities['CITY'])"
   ]
  },
  {
   "cell_type": "code",
   "execution_count": 5,
   "id": "d99d60cc",
   "metadata": {},
   "outputs": [
    {
     "data": {
      "text/plain": [
       "0                 mulino\n",
       "1                hammond\n",
       "2           fort stevens\n",
       "3                glifton\n",
       "4               bradwood\n",
       "             ...        \n",
       "893            cornelius\n",
       "894               harbor\n",
       "895            marshland\n",
       "896          lake oswego\n",
       "897    twelvemile corner\n",
       "Name: CITY, Length: 898, dtype: object"
      ]
     },
     "execution_count": 5,
     "metadata": {},
     "output_type": "execute_result"
    }
   ],
   "source": [
    "cities['CITY'].str.lower()"
   ]
  },
  {
   "cell_type": "markdown",
   "id": "843fc7e9",
   "metadata": {},
   "source": [
    "## Plus it has a special geometry column"
   ]
  },
  {
   "cell_type": "code",
   "execution_count": 6,
   "id": "7d6a6140",
   "metadata": {},
   "outputs": [
    {
     "data": {
      "image/svg+xml": [
       "<svg xmlns=\"http://www.w3.org/2000/svg\" xmlns:xlink=\"http://www.w3.org/1999/xlink\" width=\"100.0\" height=\"100.0\" viewBox=\"776898.8125 1272018.125 2.0 2.0\" preserveAspectRatio=\"xMinYMin meet\"><g transform=\"matrix(1,0,0,-1,0,2544038.25)\"><circle cx=\"776899.8125\" cy=\"1272019.125\" r=\"0.06\" stroke=\"#555555\" stroke-width=\"0.02\" fill=\"#66cc99\" opacity=\"0.6\" /></g></svg>"
      ],
      "text/plain": [
       "<POINT (776899.812 1272019.125)>"
      ]
     },
     "execution_count": 6,
     "metadata": {},
     "output_type": "execute_result"
    }
   ],
   "source": [
    "# Plus geometry column\n",
    "cities.iloc[0]['geometry']"
   ]
  },
  {
   "cell_type": "code",
   "execution_count": 7,
   "id": "5fcee748",
   "metadata": {},
   "outputs": [
    {
     "data": {
      "text/plain": [
       "shapely.geometry.point.Point"
      ]
     },
     "execution_count": 7,
     "metadata": {},
     "output_type": "execute_result"
    }
   ],
   "source": [
    "# Each value is a geometry object\n",
    "type(cities.iloc[0]['geometry'])"
   ]
  },
  {
   "cell_type": "code",
   "execution_count": 8,
   "id": "8a0364e2",
   "metadata": {},
   "outputs": [
    {
     "data": {
      "text/plain": [
       "(776899.8125, 1272019.125)"
      ]
     },
     "execution_count": 8,
     "metadata": {},
     "output_type": "execute_result"
    }
   ],
   "source": [
    "# With spatial attributes like x & y\n",
    "cities.iloc[0]['geometry'].x, cities.iloc[0]['geometry'].y"
   ]
  },
  {
   "cell_type": "code",
   "execution_count": 9,
   "id": "8a5f0e0d",
   "metadata": {},
   "outputs": [
    {
     "data": {
      "text/plain": [
       "['__and__',\n",
       " '__bool__',\n",
       " '__class__',\n",
       " '__delattr__',\n",
       " '__dir__',\n",
       " '__doc__',\n",
       " '__eq__',\n",
       " '__format__',\n",
       " '__ge__',\n",
       " '__geo_interface__',\n",
       " '__getattribute__',\n",
       " '__gt__',\n",
       " '__hash__',\n",
       " '__init__',\n",
       " '__init_subclass__',\n",
       " '__le__',\n",
       " '__lt__',\n",
       " '__module__',\n",
       " '__ne__',\n",
       " '__new__',\n",
       " '__nonzero__',\n",
       " '__or__',\n",
       " '__reduce__',\n",
       " '__reduce_ex__',\n",
       " '__repr__',\n",
       " '__setattr__',\n",
       " '__setstate__',\n",
       " '__sizeof__',\n",
       " '__slots__',\n",
       " '__str__',\n",
       " '__sub__',\n",
       " '__subclasshook__',\n",
       " '__xor__',\n",
       " '_geom',\n",
       " '_geom_prepared',\n",
       " '_ndim',\n",
       " '_repr_svg_',\n",
       " 'almost_equals',\n",
       " 'area',\n",
       " 'boundary',\n",
       " 'bounds',\n",
       " 'buffer',\n",
       " 'centroid',\n",
       " 'contains',\n",
       " 'contains_properly',\n",
       " 'convex_hull',\n",
       " 'coords',\n",
       " 'covered_by',\n",
       " 'covers',\n",
       " 'crosses',\n",
       " 'difference',\n",
       " 'disjoint',\n",
       " 'distance',\n",
       " 'dwithin',\n",
       " 'envelope',\n",
       " 'equals',\n",
       " 'equals_exact',\n",
       " 'geom_type',\n",
       " 'geometryType',\n",
       " 'has_z',\n",
       " 'hausdorff_distance',\n",
       " 'interpolate',\n",
       " 'intersection',\n",
       " 'intersects',\n",
       " 'is_closed',\n",
       " 'is_empty',\n",
       " 'is_ring',\n",
       " 'is_simple',\n",
       " 'is_valid',\n",
       " 'length',\n",
       " 'line_interpolate_point',\n",
       " 'line_locate_point',\n",
       " 'minimum_clearance',\n",
       " 'minimum_rotated_rectangle',\n",
       " 'normalize',\n",
       " 'oriented_envelope',\n",
       " 'overlaps',\n",
       " 'point_on_surface',\n",
       " 'project',\n",
       " 'relate',\n",
       " 'relate_pattern',\n",
       " 'representative_point',\n",
       " 'reverse',\n",
       " 'segmentize',\n",
       " 'simplify',\n",
       " 'svg',\n",
       " 'symmetric_difference',\n",
       " 'touches',\n",
       " 'type',\n",
       " 'union',\n",
       " 'within',\n",
       " 'wkb',\n",
       " 'wkb_hex',\n",
       " 'wkt',\n",
       " 'x',\n",
       " 'xy',\n",
       " 'y',\n",
       " 'z']"
      ]
     },
     "execution_count": 9,
     "metadata": {},
     "output_type": "execute_result"
    }
   ],
   "source": [
    "# Shapely geometry object has various spatial attributes/methods\n",
    "dir(cities.iloc[0]['geometry'])"
   ]
  },
  {
   "cell_type": "markdown",
   "id": "c0054f65",
   "metadata": {},
   "source": [
    "## GeoDataFrame spatial methods"
   ]
  },
  {
   "cell_type": "code",
   "execution_count": 10,
   "id": "bb17523e",
   "metadata": {},
   "outputs": [
    {
     "data": {
      "text/plain": [
       "0      0.000000e+00\n",
       "1      4.984303e+05\n",
       "2      5.033933e+05\n",
       "3      4.256619e+05\n",
       "4      4.167325e+05\n",
       "           ...     \n",
       "893    1.607713e+05\n",
       "894    1.239386e+06\n",
       "895    3.710563e+05\n",
       "896    7.702938e+04\n",
       "897    1.108091e+05\n",
       "Name: distance_mulino, Length: 898, dtype: float64"
      ]
     },
     "execution_count": 10,
     "metadata": {},
     "output_type": "execute_result"
    }
   ],
   "source": [
    "# Distance to point\n",
    "cities['distance_mulino'] = cities.distance(cities.iloc[0]['geometry'])\n",
    "cities['distance_mulino']"
   ]
  },
  {
   "cell_type": "code",
   "execution_count": 11,
   "id": "1907a34f",
   "metadata": {},
   "outputs": [
    {
     "data": {
      "text/plain": [
       "0      POLYGON ((776909.812 1272019.125, 776909.764 1...\n",
       "1      POLYGON ((439330.844 1638725.000, 439330.796 1...\n",
       "2      POLYGON ((435118.000 1641590.750, 435117.952 1...\n",
       "3      POLYGON ((560731.000 1638699.875, 560730.952 1...\n",
       "4      POLYGON ((568335.812 1632800.000, 568335.764 1...\n",
       "                             ...                        \n",
       "893    POLYGON ((656732.688 1378812.750, 656732.639 1...\n",
       "894    POLYGON ((289959.125 132301.000, 289959.077 13...\n",
       "895    POLYGON ((605166.125 1600936.875, 605166.077 1...\n",
       "896    POLYGON ((756651.562 1346336.875, 756651.514 1...\n",
       "897    POLYGON ((816572.000 1375486.875, 816571.952 1...\n",
       "Length: 898, dtype: geometry"
      ]
     },
     "execution_count": 11,
     "metadata": {},
     "output_type": "execute_result"
    }
   ],
   "source": [
    "# Buffer\n",
    "gdf_buff = cities.buffer(10)\n",
    "gdf_buff"
   ]
  },
  {
   "cell_type": "code",
   "execution_count": 12,
   "id": "bfbfd913",
   "metadata": {},
   "outputs": [
    {
     "data": {
      "image/svg+xml": [
       "<svg xmlns=\"http://www.w3.org/2000/svg\" xmlns:xlink=\"http://www.w3.org/1999/xlink\" width=\"100.0\" height=\"100.0\" viewBox=\"776889.0125 1272008.325 21.600000000093132 21.600000000093132\" preserveAspectRatio=\"xMinYMin meet\"><g transform=\"matrix(1,0,0,-1,0,2544038.25)\"><path fill-rule=\"evenodd\" fill=\"#66cc99\" stroke=\"#555555\" stroke-width=\"0.43200000000186267\" opacity=\"0.6\" d=\"M 776909.8125,1272019.125 L 776909.7643472668,1272018.1448285966 L 776909.6203528041,1272017.17409678 L 776909.3819033573,1272016.2221532275 L 776909.0512953252,1272015.2981656764 L 776908.6317126434,1272014.4110326318 L 776908.127196123,1272013.5692976697 L 776907.5426045336,1272012.7810671583 L 776906.8835678119,1272012.053932188 L 776906.1564328417,1272011.3948954663 L 776905.3682023302,1272010.8103038769 L 776904.5264673682,1272010.3057873566 L 776903.6393343237,1272009.8862046748 L 776902.7153467726,1272009.5555966427 L 776901.7634032202,1272009.317147196 L 776900.7926714033,1272009.1731527334 L 776899.8125,1272009.125 L 776898.8323285967,1272009.1731527334 L 776897.8615967798,1272009.317147196 L 776896.9096532274,1272009.5555966427 L 776895.9856656763,1272009.8862046748 L 776895.0985326318,1272010.3057873566 L 776894.2567976698,1272010.8103038769 L 776893.4685671583,1272011.3948954663 L 776892.7414321881,1272012.053932188 L 776892.0823954664,1272012.7810671583 L 776891.497803877,1272013.5692976697 L 776890.9932873566,1272014.4110326318 L 776890.5737046748,1272015.2981656764 L 776890.2430966427,1272016.2221532275 L 776890.0046471959,1272017.17409678 L 776889.8606527332,1272018.1448285966 L 776889.8125,1272019.125 L 776889.8606527332,1272020.1051714034 L 776890.0046471959,1272021.07590322 L 776890.2430966427,1272022.0278467725 L 776890.5737046748,1272022.9518343236 L 776890.9932873566,1272023.8389673682 L 776891.497803877,1272024.6807023303 L 776892.0823954664,1272025.4689328417 L 776892.7414321881,1272026.196067812 L 776893.4685671583,1272026.8551045337 L 776894.2567976698,1272027.4396961231 L 776895.0985326318,1272027.9442126434 L 776895.9856656763,1272028.3637953252 L 776896.9096532274,1272028.6944033573 L 776897.8615967798,1272028.932852804 L 776898.8323285967,1272029.0768472666 L 776899.8125,1272029.125 L 776900.7926714033,1272029.0768472666 L 776901.7634032202,1272028.932852804 L 776902.7153467726,1272028.6944033573 L 776903.6393343237,1272028.3637953252 L 776904.5264673682,1272027.9442126434 L 776905.3682023302,1272027.4396961231 L 776906.1564328417,1272026.8551045337 L 776906.8835678119,1272026.196067812 L 776907.5426045336,1272025.4689328417 L 776908.127196123,1272024.6807023303 L 776908.6317126434,1272023.8389673682 L 776909.0512953252,1272022.9518343236 L 776909.3819033573,1272022.0278467725 L 776909.6203528041,1272021.07590322 L 776909.7643472668,1272020.1051714034 L 776909.8125,1272019.125 z\" /></g></svg>"
      ],
      "text/plain": [
       "<POLYGON ((776909.812 1272019.125, 776909.764 1272018.145, 776909.62 1272017...>"
      ]
     },
     "execution_count": 12,
     "metadata": {},
     "output_type": "execute_result"
    }
   ],
   "source": [
    "gdf_buff[0]"
   ]
  },
  {
   "cell_type": "markdown",
   "id": "6653875f",
   "metadata": {},
   "source": [
    "## Writing results to a shapefile"
   ]
  },
  {
   "cell_type": "code",
   "execution_count": 14,
   "id": "2f13683c",
   "metadata": {},
   "outputs": [],
   "source": [
    "gdf_buff.to_file(r'C:\\Users\\jbousqui\\Local_GIS\\temp_test\\OS_gdf_example.shp')"
   ]
  }
 ],
 "metadata": {
  "kernelspec": {
   "display_name": "Python 3 (ipykernel)",
   "language": "python",
   "name": "python3"
  },
  "language_info": {
   "codemirror_mode": {
    "name": "ipython",
    "version": 3
   },
   "file_extension": ".py",
   "mimetype": "text/x-python",
   "name": "python",
   "nbconvert_exporter": "python",
   "pygments_lexer": "ipython3",
   "version": "3.9.18"
  }
 },
 "nbformat": 4,
 "nbformat_minor": 5
}
