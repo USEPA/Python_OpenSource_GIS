{
 "cells": [
  {
   "cell_type": "markdown",
   "id": "d167b576",
   "metadata": {},
   "source": [
    "# Vector Analysis"
   ]
  },
  {
   "cell_type": "code",
   "execution_count": 1,
   "id": "7bdb1c31",
   "metadata": {},
   "outputs": [],
   "source": [
    "import geopandas"
   ]
  },
  {
   "cell_type": "markdown",
   "id": "f67fa2bf",
   "metadata": {},
   "source": [
    "## Reading in a shapefile"
   ]
  },
  {
   "cell_type": "code",
   "execution_count": 2,
   "id": "079b4f45",
   "metadata": {},
   "outputs": [
    {
     "data": {
      "text/html": [
       "<div>\n",
       "<style scoped>\n",
       "    .dataframe tbody tr th:only-of-type {\n",
       "        vertical-align: middle;\n",
       "    }\n",
       "\n",
       "    .dataframe tbody tr th {\n",
       "        vertical-align: top;\n",
       "    }\n",
       "\n",
       "    .dataframe thead th {\n",
       "        text-align: right;\n",
       "    }\n",
       "</style>\n",
       "<table border=\"1\" class=\"dataframe\">\n",
       "  <thead>\n",
       "    <tr style=\"text-align: right;\">\n",
       "      <th></th>\n",
       "      <th>AREA</th>\n",
       "      <th>PERIMETER</th>\n",
       "      <th>CITIES_</th>\n",
       "      <th>CITIES_ID</th>\n",
       "      <th>CITY</th>\n",
       "      <th>FLAG</th>\n",
       "      <th>geometry</th>\n",
       "    </tr>\n",
       "  </thead>\n",
       "  <tbody>\n",
       "    <tr>\n",
       "      <th>0</th>\n",
       "      <td>0.0</td>\n",
       "      <td>0.0</td>\n",
       "      <td>1</td>\n",
       "      <td>1658</td>\n",
       "      <td>MULINO</td>\n",
       "      <td>0</td>\n",
       "      <td>POINT (776899.812 1272019.125)</td>\n",
       "    </tr>\n",
       "    <tr>\n",
       "      <th>1</th>\n",
       "      <td>0.0</td>\n",
       "      <td>0.0</td>\n",
       "      <td>2</td>\n",
       "      <td>1368</td>\n",
       "      <td>HAMMOND</td>\n",
       "      <td>0</td>\n",
       "      <td>POINT (439320.844 1638725.000)</td>\n",
       "    </tr>\n",
       "    <tr>\n",
       "      <th>2</th>\n",
       "      <td>0.0</td>\n",
       "      <td>0.0</td>\n",
       "      <td>3</td>\n",
       "      <td>1366</td>\n",
       "      <td>FORT STEVENS</td>\n",
       "      <td>0</td>\n",
       "      <td>POINT (435108.000 1641590.750)</td>\n",
       "    </tr>\n",
       "    <tr>\n",
       "      <th>3</th>\n",
       "      <td>0.0</td>\n",
       "      <td>0.0</td>\n",
       "      <td>4</td>\n",
       "      <td>1382</td>\n",
       "      <td>GLIFTON</td>\n",
       "      <td>0</td>\n",
       "      <td>POINT (560721.000 1638699.875)</td>\n",
       "    </tr>\n",
       "    <tr>\n",
       "      <th>4</th>\n",
       "      <td>0.0</td>\n",
       "      <td>0.0</td>\n",
       "      <td>5</td>\n",
       "      <td>1384</td>\n",
       "      <td>BRADWOOD</td>\n",
       "      <td>0</td>\n",
       "      <td>POINT (568325.812 1632800.000)</td>\n",
       "    </tr>\n",
       "  </tbody>\n",
       "</table>\n",
       "</div>"
      ],
      "text/plain": [
       "   AREA  PERIMETER  CITIES_  CITIES_ID          CITY  FLAG  \\\n",
       "0   0.0        0.0        1       1658        MULINO     0   \n",
       "1   0.0        0.0        2       1368       HAMMOND     0   \n",
       "2   0.0        0.0        3       1366  FORT STEVENS     0   \n",
       "3   0.0        0.0        4       1382       GLIFTON     0   \n",
       "4   0.0        0.0        5       1384      BRADWOOD     0   \n",
       "\n",
       "                         geometry  \n",
       "0  POINT (776899.812 1272019.125)  \n",
       "1  POINT (439320.844 1638725.000)  \n",
       "2  POINT (435108.000 1641590.750)  \n",
       "3  POINT (560721.000 1638699.875)  \n",
       "4  POINT (568325.812 1632800.000)  "
      ]
     },
     "execution_count": 2,
     "metadata": {},
     "output_type": "execute_result"
    }
   ],
   "source": [
    "# File path\n",
    "cities = geopandas.read_file('/vsicurl/https://github.com/mhweber/Rspatialworkshop/raw/master/inst/extdata/cities.shp')\n",
    "# Check input data\n",
    "cities.head()"
   ]
  },
  {
   "cell_type": "code",
   "execution_count": 3,
   "id": "b2e183ed",
   "metadata": {},
   "outputs": [
    {
     "data": {
      "text/plain": [
       "geopandas.geodataframe.GeoDataFrame"
      ]
     },
     "execution_count": 3,
     "metadata": {},
     "output_type": "execute_result"
    }
   ],
   "source": [
    "# object type is GeoDataFrame\n",
    "type(cities)"
   ]
  },
  {
   "cell_type": "markdown",
   "id": "2c797840",
   "metadata": {},
   "source": [
    "## geopandas.GeoDataFrame is a subclass of pandas.Dataframe - all the pandas functinoality is available to use on it"
   ]
  },
  {
   "cell_type": "code",
   "execution_count": 4,
   "id": "992e65f6",
   "metadata": {},
   "outputs": [
    {
     "data": {
      "text/plain": [
       "pandas.core.series.Series"
      ]
     },
     "execution_count": 4,
     "metadata": {},
     "output_type": "execute_result"
    }
   ],
   "source": [
    "type(cities['CITY'])"
   ]
  },
  {
   "cell_type": "code",
   "execution_count": 5,
   "id": "d99d60cc",
   "metadata": {},
   "outputs": [
    {
     "data": {
      "text/plain": [
       "0                 mulino\n",
       "1                hammond\n",
       "2           fort stevens\n",
       "3                glifton\n",
       "4               bradwood\n",
       "             ...        \n",
       "893            cornelius\n",
       "894               harbor\n",
       "895            marshland\n",
       "896          lake oswego\n",
       "897    twelvemile corner\n",
       "Name: CITY, Length: 898, dtype: object"
      ]
     },
     "execution_count": 5,
     "metadata": {},
     "output_type": "execute_result"
    }
   ],
   "source": [
    "cities['CITY'].str.lower()"
   ]
  },
  {
   "cell_type": "markdown",
   "id": "843fc7e9",
   "metadata": {},
   "source": [
    "## Plus it has a special geometry column"
   ]
  },
  {
   "cell_type": "code",
   "execution_count": 6,
   "id": "7d6a6140",
   "metadata": {},
   "outputs": [
    {
     "data": {
      "image/svg+xml": [
       "<svg xmlns=\"http://www.w3.org/2000/svg\" xmlns:xlink=\"http://www.w3.org/1999/xlink\" width=\"100.0\" height=\"100.0\" viewBox=\"776898.8125 1272018.125 2.0 2.0\" preserveAspectRatio=\"xMinYMin meet\"><g transform=\"matrix(1,0,0,-1,0,2544038.25)\"><circle cx=\"776899.8125\" cy=\"1272019.125\" r=\"0.06\" stroke=\"#555555\" stroke-width=\"0.02\" fill=\"#66cc99\" opacity=\"0.6\" /></g></svg>"
      ],
      "text/plain": [
       "<POINT (776899.812 1272019.125)>"
      ]
     },
     "execution_count": 6,
     "metadata": {},
     "output_type": "execute_result"
    }
   ],
   "source": [
    "# Plus geometry column\n",
    "cities.iloc[0]['geometry']"
   ]
  },
  {
   "cell_type": "code",
   "execution_count": 7,
   "id": "5fcee748",
   "metadata": {},
   "outputs": [
    {
     "data": {
      "text/plain": [
       "shapely.geometry.point.Point"
      ]
     },
     "execution_count": 7,
     "metadata": {},
     "output_type": "execute_result"
    }
   ],
   "source": [
    "# Each value is a geometry object\n",
    "type(cities.iloc[0]['geometry'])"
   ]
  },
  {
   "cell_type": "code",
   "execution_count": 8,
   "id": "8a0364e2",
   "metadata": {},
   "outputs": [
    {
     "data": {
      "text/plain": [
       "(776899.8125, 1272019.125)"
      ]
     },
     "execution_count": 8,
     "metadata": {},
     "output_type": "execute_result"
    }
   ],
   "source": [
    "# With spatial attributes like x & y\n",
    "cities.iloc[0]['geometry'].x, cities.iloc[0]['geometry'].y"
   ]
  },
  {
   "cell_type": "code",
   "execution_count": 9,
   "id": "8a5f0e0d",
   "metadata": {},
   "outputs": [
    {
     "data": {
      "text/plain": [
       "['__and__',\n",
       " '__bool__',\n",
       " '__class__',\n",
       " '__delattr__',\n",
       " '__dir__',\n",
       " '__doc__',\n",
       " '__eq__',\n",
       " '__format__',\n",
       " '__ge__',\n",
       " '__geo_interface__',\n",
       " '__getattribute__',\n",
       " '__gt__',\n",
       " '__hash__',\n",
       " '__init__',\n",
       " '__init_subclass__',\n",
       " '__le__',\n",
       " '__lt__',\n",
       " '__module__',\n",
       " '__ne__',\n",
       " '__new__',\n",
       " '__nonzero__',\n",
       " '__or__',\n",
       " '__reduce__',\n",
       " '__reduce_ex__',\n",
       " '__repr__',\n",
       " '__setattr__',\n",
       " '__setstate__',\n",
       " '__sizeof__',\n",
       " '__slots__',\n",
       " '__str__',\n",
       " '__sub__',\n",
       " '__subclasshook__',\n",
       " '__xor__',\n",
       " '_geom',\n",
       " '_geom_prepared',\n",
       " '_ndim',\n",
       " '_repr_svg_',\n",
       " 'almost_equals',\n",
       " 'area',\n",
       " 'boundary',\n",
       " 'bounds',\n",
       " 'buffer',\n",
       " 'centroid',\n",
       " 'contains',\n",
       " 'contains_properly',\n",
       " 'convex_hull',\n",
       " 'coords',\n",
       " 'covered_by',\n",
       " 'covers',\n",
       " 'crosses',\n",
       " 'difference',\n",
       " 'disjoint',\n",
       " 'distance',\n",
       " 'dwithin',\n",
       " 'envelope',\n",
       " 'equals',\n",
       " 'equals_exact',\n",
       " 'geom_type',\n",
       " 'geometryType',\n",
       " 'has_z',\n",
       " 'hausdorff_distance',\n",
       " 'interpolate',\n",
       " 'intersection',\n",
       " 'intersects',\n",
       " 'is_closed',\n",
       " 'is_empty',\n",
       " 'is_ring',\n",
       " 'is_simple',\n",
       " 'is_valid',\n",
       " 'length',\n",
       " 'line_interpolate_point',\n",
       " 'line_locate_point',\n",
       " 'minimum_clearance',\n",
       " 'minimum_rotated_rectangle',\n",
       " 'normalize',\n",
       " 'oriented_envelope',\n",
       " 'overlaps',\n",
       " 'point_on_surface',\n",
       " 'project',\n",
       " 'relate',\n",
       " 'relate_pattern',\n",
       " 'representative_point',\n",
       " 'reverse',\n",
       " 'segmentize',\n",
       " 'simplify',\n",
       " 'svg',\n",
       " 'symmetric_difference',\n",
       " 'touches',\n",
       " 'type',\n",
       " 'union',\n",
       " 'within',\n",
       " 'wkb',\n",
       " 'wkb_hex',\n",
       " 'wkt',\n",
       " 'x',\n",
       " 'xy',\n",
       " 'y',\n",
       " 'z']"
      ]
     },
     "execution_count": 9,
     "metadata": {},
     "output_type": "execute_result"
    }
   ],
   "source": [
    "# Shapely geometry object has various spatial attributes/methods\n",
    "dir(cities.iloc[0]['geometry'])"
   ]
  },
  {
   "cell_type": "markdown",
   "id": "c0054f65",
   "metadata": {},
   "source": [
    "## GeoDataFrame spatial methods"
   ]
  },
  {
   "cell_type": "code",
   "execution_count": 10,
   "id": "bb17523e",
   "metadata": {},
   "outputs": [
    {
     "data": {
      "text/plain": [
       "0      0.000000e+00\n",
       "1      4.984303e+05\n",
       "2      5.033933e+05\n",
       "3      4.256619e+05\n",
       "4      4.167325e+05\n",
       "           ...     \n",
       "893    1.607713e+05\n",
       "894    1.239386e+06\n",
       "895    3.710563e+05\n",
       "896    7.702938e+04\n",
       "897    1.108091e+05\n",
       "Name: distance_mulino, Length: 898, dtype: float64"
      ]
     },
     "execution_count": 10,
     "metadata": {},
     "output_type": "execute_result"
    }
   ],
   "source": [
    "# Distance to point\n",
    "cities['distance_mulino'] = cities.distance(cities.iloc[0]['geometry'])\n",
    "cities['distance_mulino']"
   ]
  },
  {
   "cell_type": "code",
   "execution_count": 11,
   "id": "1907a34f",
   "metadata": {},
   "outputs": [
    {
     "data": {
      "text/plain": [
       "0      POLYGON ((776999.812 1272019.125, 776999.331 1...\n",
       "1      POLYGON ((439420.844 1638725.000, 439420.362 1...\n",
       "2      POLYGON ((435208.000 1641590.750, 435207.518 1...\n",
       "3      POLYGON ((560821.000 1638699.875, 560820.518 1...\n",
       "4      POLYGON ((568425.812 1632800.000, 568425.331 1...\n",
       "                             ...                        \n",
       "893    POLYGON ((656822.688 1378812.750, 656822.206 1...\n",
       "894    POLYGON ((290049.125 132301.000, 290048.643 13...\n",
       "895    POLYGON ((605256.125 1600936.875, 605255.643 1...\n",
       "896    POLYGON ((756741.562 1346336.875, 756741.081 1...\n",
       "897    POLYGON ((816662.000 1375486.875, 816661.518 1...\n",
       "Length: 898, dtype: geometry"
      ]
     },
     "execution_count": 11,
     "metadata": {},
     "output_type": "execute_result"
    }
   ],
   "source": [
    "# Buffer\n",
    "gdf_buff = cities.buffer(100)\n",
    "gdf_buff"
   ]
  },
  {
   "cell_type": "code",
   "execution_count": 12,
   "id": "bfbfd913",
   "metadata": {},
   "outputs": [
    {
     "data": {
      "image/svg+xml": [
       "<svg xmlns=\"http://www.w3.org/2000/svg\" xmlns:xlink=\"http://www.w3.org/1999/xlink\" width=\"216.0\" height=\"216.0\" viewBox=\"776791.8125 1271911.125 216.0 216.0\" preserveAspectRatio=\"xMinYMin meet\"><g transform=\"matrix(1,0,0,-1,0,2544038.25)\"><path fill-rule=\"evenodd\" fill=\"#66cc99\" stroke=\"#555555\" stroke-width=\"2.0\" opacity=\"0.6\" d=\"M 776999.8125,1272019.125 L 776999.3309726672,1272009.323285967 L 776997.8910280403,1271999.6159677983 L 776995.5065335733,1271990.0965322745 L 776992.2004532511,1271980.8566567635 L 776988.0046264349,1271971.9853263174 L 776982.9594612302,1271963.567976698 L 776977.1135453363,1271955.6856715837 L 776970.5231781186,1271948.4143218813 L 776963.2518284164,1271941.8239546637 L 776955.369523302,1271935.9780387697 L 776946.9521736826,1271930.9328735652 L 776938.0808432365,1271926.7370467489 L 776928.8409677255,1271923.4309664269 L 776919.3215322016,1271921.0464719597 L 776909.614214033,1271919.6065273327 L 776899.8125,1271919.125 L 776890.010785967,1271919.6065273327 L 776880.3034677984,1271921.0464719597 L 776870.7840322745,1271923.4309664269 L 776861.5441567635,1271926.7370467489 L 776852.6728263174,1271930.9328735652 L 776844.255476698,1271935.9780387697 L 776836.3731715836,1271941.8239546637 L 776829.1018218814,1271948.4143218813 L 776822.5114546637,1271955.6856715837 L 776816.6655387698,1271963.567976698 L 776811.6203735651,1271971.9853263174 L 776807.4245467489,1271980.8566567635 L 776804.1184664267,1271990.0965322745 L 776801.7339719597,1271999.6159677983 L 776800.2940273328,1272009.323285967 L 776799.8125,1272019.125 L 776800.2940273328,1272028.926714033 L 776801.7339719597,1272038.6340322017 L 776804.1184664267,1272048.1534677255 L 776807.4245467489,1272057.3933432365 L 776811.6203735651,1272066.2646736826 L 776816.6655387698,1272074.682023302 L 776822.5114546637,1272082.5643284163 L 776829.1018218814,1272089.8356781187 L 776836.3731715836,1272096.4260453363 L 776844.255476698,1272102.2719612303 L 776852.6728263174,1272107.3171264348 L 776861.5441567635,1272111.5129532511 L 776870.7840322745,1272114.8190335731 L 776880.3034677984,1272117.2035280403 L 776890.010785967,1272118.6434726673 L 776899.8125,1272119.125 L 776909.614214033,1272118.6434726673 L 776919.3215322016,1272117.2035280403 L 776928.8409677255,1272114.8190335731 L 776938.0808432365,1272111.5129532511 L 776946.9521736826,1272107.3171264348 L 776955.369523302,1272102.2719612303 L 776963.2518284164,1272096.4260453363 L 776970.5231781186,1272089.8356781187 L 776977.1135453363,1272082.5643284163 L 776982.9594612302,1272074.682023302 L 776988.0046264349,1272066.2646736826 L 776992.2004532511,1272057.3933432365 L 776995.5065335733,1272048.1534677255 L 776997.8910280403,1272038.6340322017 L 776999.3309726672,1272028.926714033 L 776999.8125,1272019.125 z\" /></g></svg>"
      ],
      "text/plain": [
       "<POLYGON ((776999.812 1272019.125, 776999.331 1272009.323, 776997.891 127199...>"
      ]
     },
     "execution_count": 12,
     "metadata": {},
     "output_type": "execute_result"
    }
   ],
   "source": [
    "gdf_buff[0]"
   ]
  },
  {
   "cell_type": "markdown",
   "id": "6653875f",
   "metadata": {},
   "source": [
    "## Writing results to a shapefile"
   ]
  },
  {
   "cell_type": "code",
   "execution_count": 13,
   "id": "2f13683c",
   "metadata": {},
   "outputs": [],
   "source": [
    "gdf_buff.to_file(r'C:\\Users\\jbousqui\\Local_GIS\\temp_test\\OS_gdf_example.shp')"
   ]
  },
  {
   "cell_type": "markdown",
   "id": "c37573e5",
   "metadata": {},
   "source": [
    "## Build Query for NLCD (this should all be deleted)"
   ]
  },
  {
   "cell_type": "code",
   "execution_count": 14,
   "id": "291ed095",
   "metadata": {},
   "outputs": [],
   "source": [
    "bbox = gdf_buff.total_bounds  #full set is too large\n",
    "bbox = gdf_buff[0].buffer(1000).bounds"
   ]
  },
  {
   "cell_type": "code",
   "execution_count": 15,
   "id": "c43393b1",
   "metadata": {},
   "outputs": [
    {
     "data": {
      "text/plain": [
       "['X(\"775801.017043795\",\"777998.607956205\")',\n",
       " 'Y(\"1270920.3295437943\",\"1273117.9204562057\")']"
      ]
     },
     "execution_count": 15,
     "metadata": {},
     "output_type": "execute_result"
    }
   ],
   "source": [
    "subset = ['X(\"{}\",\"{}\")'.format(bbox[0], bbox[2]),\n",
    "          'Y(\"{}\",\"{}\")'.format(bbox[1], bbox[3])]\n",
    "subset"
   ]
  },
  {
   "cell_type": "code",
   "execution_count": 16,
   "id": "2011d592",
   "metadata": {},
   "outputs": [
    {
     "data": {
      "text/plain": [
       "2992"
      ]
     },
     "execution_count": 16,
     "metadata": {},
     "output_type": "execute_result"
    }
   ],
   "source": [
    "query_crs = gdf_buff.crs.to_epsg()\n",
    "query_crs"
   ]
  },
  {
   "cell_type": "code",
   "execution_count": 17,
   "id": "92883681",
   "metadata": {},
   "outputs": [],
   "source": [
    "year = 2021\n",
    "dataset = \"Tree_Canopy\"\n",
    "serviceName = f\"nlcd_tcc_conus_{year}_v2021-4\"\n",
    "coverage = \"mrlc_download__\" + serviceName\n",
    "landmass = \"L48\"\n",
    "epsg_url = \"http://www.opengis.net/def/crs/EPSG/0/\"\n",
    "out_crs = 5070"
   ]
  },
  {
   "cell_type": "code",
   "execution_count": 18,
   "id": "09635e18",
   "metadata": {},
   "outputs": [],
   "source": [
    "params = {\"service\": \"WCS\",\n",
    "                  \"version\": \"2.0.1\",\n",
    "                  \"request\": \"GetCoverage\",\n",
    "                  \"coverageid\": coverage,\n",
    "                  \"subset\": subset,\n",
    "                  \"SubsettingCRS\": f'{epsg_url}{query_crs}',\n",
    "                  \"format\": 'image/geotiff',\n",
    "                  \"OutputCRS\": '{}{}'.format(epsg_url, out_crs),\n",
    "                  }"
   ]
  },
  {
   "cell_type": "code",
   "execution_count": 19,
   "id": "d35128d1",
   "metadata": {},
   "outputs": [],
   "source": [
    "url = f\"https://www.mrlc.gov/geoserver/mrlc_download/{serviceName}/ows\""
   ]
  },
  {
   "cell_type": "code",
   "execution_count": 20,
   "id": "65b5bd5f",
   "metadata": {},
   "outputs": [],
   "source": [
    "import os\n",
    "import requests\n",
    "TIMEOUT = 100"
   ]
  },
  {
   "cell_type": "code",
   "execution_count": 21,
   "id": "4297e959",
   "metadata": {},
   "outputs": [],
   "source": [
    "def get_url(url, data=None):\n",
    "    \"\"\"\n",
    "    Standard get request from url\n",
    "\n",
    "    Parameters\n",
    "    ----------\n",
    "    url : string\n",
    "        url to send request to.\n",
    "    data : dict, optional\n",
    "        The payload of data to request. The default is None.\n",
    "\n",
    "    Returns\n",
    "    -------\n",
    "    res : string or json\n",
    "        Response, type depends on service and data.\n",
    "\n",
    "    \"\"\"\n",
    "    if data:\n",
    "        res = requests.get(url, data, timeout=TIMEOUT)\n",
    "    else:\n",
    "        res = requests.get(url, timeout=TIMEOUT)\n",
    "    #TODO: watch out for res.url vs url (added back, possibly removed it once)\n",
    "    assert res.ok, 'Problem with {}'.format(res.url)\n",
    "    return res"
   ]
  },
  {
   "cell_type": "code",
   "execution_count": 22,
   "id": "9163306b",
   "metadata": {},
   "outputs": [],
   "source": [
    "res = get_url(url, params)"
   ]
  },
  {
   "cell_type": "code",
   "execution_count": 23,
   "id": "f6fe6a32",
   "metadata": {},
   "outputs": [
    {
     "data": {
      "text/plain": [
       "'L:\\\\Public\\\\jbousqui\\\\Code\\\\GitHub\\\\Python_OpenSource_GIS\\\\extdata\\\\NLCD_2021_Tree_Canopy.tif'"
      ]
     },
     "execution_count": 23,
     "metadata": {},
     "output_type": "execute_result"
    }
   ],
   "source": [
    "#f'L:\\Public\\jbousqui\\Code\\GitHub\\Python_OpenSource_GIS\\extdata\\NLCD_{year}_{dataset}.tif'\n",
    "out_file = os.path.join(r'L:\\Public\\jbousqui\\Code\\GitHub\\Python_OpenSource_GIS\\extdata', f'NLCD_{year}_{dataset}.tif')\n",
    "out_file"
   ]
  },
  {
   "cell_type": "code",
   "execution_count": 24,
   "id": "d71c186c",
   "metadata": {},
   "outputs": [],
   "source": [
    "with open(out_file, \"wb\") as f:\n",
    "    f.write(res.content)"
   ]
  }
 ],
 "metadata": {
  "kernelspec": {
   "display_name": "Python 3 (ipykernel)",
   "language": "python",
   "name": "python3"
  },
  "language_info": {
   "codemirror_mode": {
    "name": "ipython",
    "version": 3
   },
   "file_extension": ".py",
   "mimetype": "text/x-python",
   "name": "python",
   "nbconvert_exporter": "python",
   "pygments_lexer": "ipython3",
   "version": "3.9.18"
  }
 },
 "nbformat": 4,
 "nbformat_minor": 5
}
