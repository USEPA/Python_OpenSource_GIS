{
 "cells": [
  {
   "cell_type": "markdown",
   "id": "4b6b0b43",
   "metadata": {},
   "source": [
    "# Raster Analysis"
   ]
  },
  {
   "cell_type": "code",
   "execution_count": 45,
   "id": "69d153b2",
   "metadata": {},
   "outputs": [],
   "source": [
    "import rasterio\n",
    "from matplotlib import pyplot\n",
    "import rioxarray\n",
    "import geopandas\n",
    "import rasterstats"
   ]
  },
  {
   "cell_type": "markdown",
   "id": "16389437",
   "metadata": {},
   "source": [
    "## Reading in a tiff"
   ]
  },
  {
   "cell_type": "code",
   "execution_count": 51,
   "id": "03e7a7c4",
   "metadata": {},
   "outputs": [],
   "source": [
    "#raster_in = 'L:\\\\Public\\\\jbousqui\\\\Code\\\\GitHub\\\\Python_OpenSource_GIS\\\\extdata\\\\NLCD_2021_Tree_Canopy_mulino.tif'\n",
    "raster_in = 'https://github.com/jbousquin/Python_OpenSource_GIS/raw/main/extdata/NLCD_2021_Tree_Canopy_mulino.tif'"
   ]
  },
  {
   "cell_type": "code",
   "execution_count": 52,
   "id": "1086ba8d",
   "metadata": {},
   "outputs": [
    {
     "data": {
      "text/plain": [
       "rasterio.io.DatasetReader"
      ]
     },
     "execution_count": 52,
     "metadata": {},
     "output_type": "execute_result"
    }
   ],
   "source": [
    "canopy = rasterio.open(raster_in)\n",
    "type(canopy)"
   ]
  },
  {
   "cell_type": "code",
   "execution_count": 42,
   "id": "42420c88",
   "metadata": {},
   "outputs": [
    {
     "data": {
      "text/plain": [
       "(25, 25)"
      ]
     },
     "execution_count": 42,
     "metadata": {},
     "output_type": "execute_result"
    }
   ],
   "source": [
    "# Has shape of grid\n",
    "canopy.shape"
   ]
  },
  {
   "cell_type": "code",
   "execution_count": 44,
   "id": "24a6945b",
   "metadata": {},
   "outputs": [
    {
     "data": {
      "text/plain": [
       "BoundingBox(left=-2059275.0, bottom=2759745.0, right=-2058525.0, top=2760495.0)"
      ]
     },
     "execution_count": 44,
     "metadata": {},
     "output_type": "execute_result"
    }
   ],
   "source": [
    "# Has spatial information for grid as a whole not individual grid cells\n",
    "canopy.bounds"
   ]
  },
  {
   "cell_type": "code",
   "execution_count": 30,
   "id": "68779cf6",
   "metadata": {},
   "outputs": [],
   "source": [
    "canopy.close()  # Good house-keeping"
   ]
  },
  {
   "cell_type": "code",
   "execution_count": 26,
   "id": "2582826b",
   "metadata": {},
   "outputs": [],
   "source": [
    "# A raster dataset can be multi-band, each accessed by the band's index starting at 1\n",
    "with rasterio.open(raster_in) as src:\n",
    "        image = src.read(1) # first band as array"
   ]
  },
  {
   "cell_type": "code",
   "execution_count": 32,
   "id": "8e66a85c",
   "metadata": {},
   "outputs": [
    {
     "data": {
      "text/plain": [
       "(25, 25)"
      ]
     },
     "execution_count": 32,
     "metadata": {},
     "output_type": "execute_result"
    }
   ],
   "source": [
    "# note same shape\n",
    "image.shape"
   ]
  },
  {
   "cell_type": "code",
   "execution_count": 17,
   "id": "5771b4c2",
   "metadata": {},
   "outputs": [
    {
     "data": {
      "text/plain": [
       "array([[ 0,  0, 43, 70, 52, 14, 18, 36, 55, 65, 73, 56, 28, 16,  0,  0,\n",
       "         0,  0,  0,  0,  0, 73, 42,  0,  0],\n",
       "       [ 0,  0, 43, 73, 62, 18, 24, 27, 65, 69, 67, 33,  0,  0,  0,  0,\n",
       "         0,  0,  0,  0, 22, 59, 37,  5,  0],\n",
       "       [ 0,  0, 34, 71, 70, 36, 39, 66, 69, 63, 21,  0,  0, 13, 29,  0,\n",
       "         0,  0,  0,  0,  0,  0, 17, 36,  0],\n",
       "       [ 0, 11, 22, 45, 45,  0, 64, 68, 66, 33,  0,  0,  0, 26, 15,  0,\n",
       "         0,  0,  0,  0,  0,  0, 39, 50,  0],\n",
       "       [ 6,  6,  9,  0, 25,  0, 31, 32, 34, 32,  0,  0,  0, 11,  0,  0,\n",
       "         0,  0,  0,  0,  0,  0,  0,  7,  0],\n",
       "       [ 0,  0,  0,  0,  0,  0,  0,  0, 21, 32, 32, 23,  0,  0,  0,  0,\n",
       "         0,  0,  0, 21,  0,  0, 13,  0,  0],\n",
       "       [ 0,  0,  0,  0,  0, 18, 16, 12, 11,  0, 27, 22,  0,  0,  0,  0,\n",
       "         0,  0, 17, 25, 13,  9, 19,  0,  0],\n",
       "       [ 0,  0,  0,  0,  0,  0,  0,  7,  6,  0,  0,  0,  0,  0,  0,  0,\n",
       "         0,  0,  0,  0,  0,  0, 27, 22, 29],\n",
       "       [ 0,  0,  0,  0,  0,  0,  0,  0,  0,  0,  0,  0,  0,  0,  0,  0,\n",
       "         0,  0,  0,  0,  0,  0, 19,  9, 32],\n",
       "       [ 0,  0,  0,  0,  0,  0,  0,  0,  0,  0,  0,  0,  0,  0,  0,  0,\n",
       "         0,  0,  0,  0,  0,  0,  0,  0, 23],\n",
       "       [ 0,  0,  0,  0,  0,  0,  0,  0,  0,  0,  0,  0,  0,  0,  0,  0,\n",
       "         0,  0,  0,  0,  0,  0,  0,  0,  0],\n",
       "       [ 0,  0,  0,  0,  0,  0,  0,  0,  0,  0,  0,  0,  0,  0,  0,  0,\n",
       "         0,  0,  0,  0,  0,  0,  0,  0,  0],\n",
       "       [ 0,  0,  0,  0,  0,  0,  0,  0,  0,  0,  0,  0,  0,  0,  0,  0,\n",
       "         0,  0,  0,  0,  0,  0,  0,  0,  0],\n",
       "       [ 0,  0,  0,  0,  0,  0,  0,  0,  0,  0,  0,  0,  0,  0,  0,  0,\n",
       "         0,  0, 47, 31, 21,  0,  0,  0, 30],\n",
       "       [ 0,  0,  0,  0,  0,  0,  0,  0,  0,  0,  0,  0,  0,  0,  0,  0,\n",
       "         8, 25,  0,  0,  8, 11,  0, 18, 45],\n",
       "       [ 0,  0,  0,  0,  0,  0,  0,  0,  0,  0,  0,  0,  0, 20,  0,  0,\n",
       "         0, 47,  7,  0,  0,  0,  0, 10, 38],\n",
       "       [ 0,  0,  0,  0,  0,  0,  0,  0,  0,  0,  0,  0,  9, 11, 42, 13,\n",
       "        22, 24,  0, 24,  0,  0,  0, 13, 14],\n",
       "       [ 0,  0,  0,  0,  0,  0,  0,  0,  0,  0,  0,  0,  0, 18, 30, 25,\n",
       "        29, 15,  0, 30, 29,  0,  0,  0,  0],\n",
       "       [ 0,  0,  0,  0,  0,  0,  0,  0,  0,  0,  0,  0, 12, 18, 20, 41,\n",
       "         0,  0,  0, 22, 27,  0,  0,  0,  0],\n",
       "       [ 0,  0,  0,  0,  0,  0,  0,  0,  0,  0, 39, 50,  0,  0,  0,  0,\n",
       "         0,  0,  0,  0,  0,  0,  0,  0,  0],\n",
       "       [ 5,  0,  0,  0,  0,  0,  0,  0,  0,  5, 62, 37,  0,  0,  0,  0,\n",
       "         0,  0,  0,  0,  0,  0,  0,  0,  0],\n",
       "       [ 6,  0,  0,  0,  0,  0,  0,  0,  0,  0, 60, 33,  0,  0,  0,  0,\n",
       "         0,  0,  0, 22,  0,  0,  0,  0,  0],\n",
       "       [19, 22,  0,  0,  0,  0,  0,  0,  0,  0, 62, 17,  0,  0,  0,  0,\n",
       "         0,  0,  0,  0, 11,  0,  0,  0,  0],\n",
       "       [20,  0,  0,  0,  0,  0,  0,  0,  0,  0, 35,  6,  0,  0,  0,  0,\n",
       "         0,  0,  0,  0, 11,  0,  0,  0,  0],\n",
       "       [22, 29,  0,  0,  0,  0,  0,  0,  0,  0, 28,  0,  0,  0,  0,  0,\n",
       "         0,  0,  0,  0, 28, 12,  0,  8,  0]], dtype=uint8)"
      ]
     },
     "execution_count": 17,
     "metadata": {},
     "output_type": "execute_result"
    }
   ],
   "source": [
    "# As an array, you can see each cell has an integer value 0-100\n",
    "image"
   ]
  },
  {
   "cell_type": "code",
   "execution_count": 47,
   "id": "b286f494",
   "metadata": {},
   "outputs": [
    {
     "data": {
      "text/plain": [
       "<matplotlib.image.AxesImage at 0x21bc9f910a0>"
      ]
     },
     "execution_count": 47,
     "metadata": {},
     "output_type": "execute_result"
    },
    {
     "data": {
      "image/png": "[encoded data removed]",
      "text/plain": [
       "<Figure size 640x480 with 1 Axes>"
      ]
     },
     "metadata": {},
     "output_type": "display_data"
    }
   ],
   "source": [
    "# Quick plot\n",
    "pyplot.imshow(image, cmap='Greens')"
   ]
  },
  {
   "cell_type": "markdown",
   "id": "67a9f674",
   "metadata": {},
   "source": [
    "### Writing to local file"
   ]
  },
  {
   "cell_type": "code",
   "execution_count": 54,
   "id": "c3f1c398",
   "metadata": {},
   "outputs": [],
   "source": [
    "src = rasterio.open(raster_in)\n",
    "out_file = r'C:\\Users\\jbousqui\\Local_GIS\\temp_test\\OS_canopy_example.tif'"
   ]
  },
  {
   "cell_type": "code",
   "execution_count": 57,
   "id": "8d470eb8",
   "metadata": {},
   "outputs": [
    {
     "ename": "TypeError",
     "evalue": "Integer width and height are required.",
     "output_type": "error",
     "traceback": [
      "\u001b[1;31m---------------------------------------------------------------------------\u001b[0m",
      "\u001b[1;31mTypeError\u001b[0m                                 Traceback (most recent call last)",
      "\u001b[1;32mrasterio\\\\_io.pyx\u001b[0m in \u001b[0;36mrasterio._io.DatasetWriterBase.__init__\u001b[1;34m()\u001b[0m\n",
      "\u001b[1;31mTypeError\u001b[0m: int() argument must be a string, a bytes-like object or a number, not 'NoneType'",
      "\nDuring handling of the above exception, another exception occurred:\n",
      "\u001b[1;31mTypeError\u001b[0m                                 Traceback (most recent call last)",
      "\u001b[1;32m~\\AppData\\Local\\Temp\\ipykernel_210008\\1556514914.py\u001b[0m in \u001b[0;36m<cell line: 1>\u001b[1;34m()\u001b[0m\n\u001b[1;32m----> 1\u001b[1;33m \u001b[1;32mwith\u001b[0m \u001b[0mrasterio\u001b[0m\u001b[1;33m.\u001b[0m\u001b[0mopen\u001b[0m\u001b[1;33m(\u001b[0m\u001b[0mout_file\u001b[0m\u001b[1;33m,\u001b[0m \u001b[1;34m'w'\u001b[0m\u001b[1;33m)\u001b[0m \u001b[1;32mas\u001b[0m \u001b[0mdst\u001b[0m\u001b[1;33m:\u001b[0m\u001b[1;33m\u001b[0m\u001b[1;33m\u001b[0m\u001b[0m\n\u001b[0m\u001b[0;32m      2\u001b[0m     \u001b[0mdst\u001b[0m\u001b[1;33m.\u001b[0m\u001b[0mwrite\u001b[0m\u001b[1;33m(\u001b[0m\u001b[0msrc\u001b[0m\u001b[1;33m)\u001b[0m\u001b[1;33m\u001b[0m\u001b[1;33m\u001b[0m\u001b[0m\n",
      "\u001b[1;32mC:\\Program Files\\ArcGIS\\Pro\\bin\\Python\\envs\\arcgispro-py3\\lib\\site-packages\\rasterio\\env.py\u001b[0m in \u001b[0;36mwrapper\u001b[1;34m(*args, **kwds)\u001b[0m\n\u001b[0;32m    449\u001b[0m \u001b[1;33m\u001b[0m\u001b[0m\n\u001b[0;32m    450\u001b[0m         \u001b[1;32mwith\u001b[0m \u001b[0menv_ctor\u001b[0m\u001b[1;33m(\u001b[0m\u001b[0msession\u001b[0m\u001b[1;33m=\u001b[0m\u001b[0msession\u001b[0m\u001b[1;33m)\u001b[0m\u001b[1;33m:\u001b[0m\u001b[1;33m\u001b[0m\u001b[1;33m\u001b[0m\u001b[0m\n\u001b[1;32m--> 451\u001b[1;33m             \u001b[1;32mreturn\u001b[0m \u001b[0mf\u001b[0m\u001b[1;33m(\u001b[0m\u001b[1;33m*\u001b[0m\u001b[0margs\u001b[0m\u001b[1;33m,\u001b[0m \u001b[1;33m**\u001b[0m\u001b[0mkwds\u001b[0m\u001b[1;33m)\u001b[0m\u001b[1;33m\u001b[0m\u001b[1;33m\u001b[0m\u001b[0m\n\u001b[0m\u001b[0;32m    452\u001b[0m \u001b[1;33m\u001b[0m\u001b[0m\n\u001b[0;32m    453\u001b[0m     \u001b[1;32mreturn\u001b[0m \u001b[0mwrapper\u001b[0m\u001b[1;33m\u001b[0m\u001b[1;33m\u001b[0m\u001b[0m\n",
      "\u001b[1;32mC:\\Program Files\\ArcGIS\\Pro\\bin\\Python\\envs\\arcgispro-py3\\lib\\site-packages\\rasterio\\__init__.py\u001b[0m in \u001b[0;36mopen\u001b[1;34m(fp, mode, driver, width, height, count, crs, transform, dtype, nodata, sharing, **kwargs)\u001b[0m\n\u001b[0;32m    340\u001b[0m             \u001b[0mwriter\u001b[0m \u001b[1;33m=\u001b[0m \u001b[0mget_writer_for_driver\u001b[0m\u001b[1;33m(\u001b[0m\u001b[0mdriver\u001b[0m\u001b[1;33m)\u001b[0m\u001b[1;33m\u001b[0m\u001b[1;33m\u001b[0m\u001b[0m\n\u001b[0;32m    341\u001b[0m             \u001b[1;32mif\u001b[0m \u001b[0mwriter\u001b[0m \u001b[1;32mis\u001b[0m \u001b[1;32mnot\u001b[0m \u001b[1;32mNone\u001b[0m\u001b[1;33m:\u001b[0m\u001b[1;33m\u001b[0m\u001b[1;33m\u001b[0m\u001b[0m\n\u001b[1;32m--> 342\u001b[1;33m                 dataset = writer(\n\u001b[0m\u001b[0;32m    343\u001b[0m                     \u001b[0mpath\u001b[0m\u001b[1;33m,\u001b[0m\u001b[1;33m\u001b[0m\u001b[1;33m\u001b[0m\u001b[0m\n\u001b[0;32m    344\u001b[0m                     \u001b[0mmode\u001b[0m\u001b[1;33m,\u001b[0m\u001b[1;33m\u001b[0m\u001b[1;33m\u001b[0m\u001b[0m\n",
      "\u001b[1;32mrasterio\\\\_io.pyx\u001b[0m in \u001b[0;36mrasterio._io.DatasetWriterBase.__init__\u001b[1;34m()\u001b[0m\n",
      "\u001b[1;31mTypeError\u001b[0m: Integer width and height are required."
     ]
    }
   ],
   "source": [
    "with rasterio.open(out_file, 'w') as dst:\n",
    "    dst.write(src)"
   ]
  },
  {
   "cell_type": "code",
   "execution_count": 55,
   "id": "517ac6c6",
   "metadata": {},
   "outputs": [
    {
     "ename": "NameError",
     "evalue": "name 'array' is not defined",
     "output_type": "error",
     "traceback": [
      "\u001b[1;31m---------------------------------------------------------------------------\u001b[0m",
      "\u001b[1;31mNameError\u001b[0m                                 Traceback (most recent call last)",
      "\u001b[1;32m~\\AppData\\Local\\Temp\\ipykernel_210008\\627777044.py\u001b[0m in \u001b[0;36m<cell line: 3>\u001b[1;34m()\u001b[0m\n\u001b[0;32m     15\u001b[0m \u001b[1;33m\u001b[0m\u001b[0m\n\u001b[0;32m     16\u001b[0m     \u001b[1;32mwith\u001b[0m \u001b[0mrasterio\u001b[0m\u001b[1;33m.\u001b[0m\u001b[0mopen\u001b[0m\u001b[1;33m(\u001b[0m\u001b[0mout_file\u001b[0m\u001b[1;33m,\u001b[0m \u001b[1;34m'w'\u001b[0m\u001b[1;33m,\u001b[0m \u001b[1;33m**\u001b[0m\u001b[0mprofile\u001b[0m\u001b[1;33m)\u001b[0m \u001b[1;32mas\u001b[0m \u001b[0mdst\u001b[0m\u001b[1;33m:\u001b[0m\u001b[1;33m\u001b[0m\u001b[1;33m\u001b[0m\u001b[0m\n\u001b[1;32m---> 17\u001b[1;33m         \u001b[0mdst\u001b[0m\u001b[1;33m.\u001b[0m\u001b[0mwrite\u001b[0m\u001b[1;33m(\u001b[0m\u001b[0marray\u001b[0m\u001b[1;33m.\u001b[0m\u001b[0mastype\u001b[0m\u001b[1;33m(\u001b[0m\u001b[0mrasterio\u001b[0m\u001b[1;33m.\u001b[0m\u001b[0muint8\u001b[0m\u001b[1;33m)\u001b[0m\u001b[1;33m,\u001b[0m \u001b[1;36m1\u001b[0m\u001b[1;33m)\u001b[0m\u001b[1;33m\u001b[0m\u001b[1;33m\u001b[0m\u001b[0m\n\u001b[0m\u001b[0;32m     18\u001b[0m \u001b[1;33m\u001b[0m\u001b[0m\n\u001b[0;32m     19\u001b[0m \u001b[1;31m# At the end of the ``with rasterio.Env()`` block, context\u001b[0m\u001b[1;33m\u001b[0m\u001b[1;33m\u001b[0m\u001b[0m\n",
      "\u001b[1;31mNameError\u001b[0m: name 'array' is not defined"
     ]
    }
   ],
   "source": [
    "# Register GDAL format drivers and configuration options with a\n",
    "# context manager.\n",
    "with rasterio.Env():\n",
    "\n",
    "    # Write an array as a raster band to a new 8-bit file. For\n",
    "    # the new file's profile, we start with the profile of the source\n",
    "    profile = src.profile\n",
    "\n",
    "    # And then change the band count to 1, set the\n",
    "    # dtype to uint8, and specify LZW compression.\n",
    "    profile.update(\n",
    "        dtype=rasterio.uint8,\n",
    "        count=1,\n",
    "        compress='lzw')\n",
    "\n",
    "    with rasterio.open(out_file, 'w', **profile) as dst:\n",
    "        dst.write(array.astype(rasterio.uint8), 1)\n",
    "\n",
    "# At the end of the ``with rasterio.Env()`` block, context\n",
    "# manager exits and all drivers are de-registered."
   ]
  },
  {
   "cell_type": "markdown",
   "id": "962698ae",
   "metadata": {},
   "source": [
    "## Raster to Raster Analysis"
   ]
  },
  {
   "cell_type": "code",
   "execution_count": null,
   "id": "e26f4ddd",
   "metadata": {},
   "outputs": [],
   "source": [
    "# Based on the combination of the data in the array and the spatial bounds can be used to extract/manipulate specific values,\n",
    "#but "
   ]
  },
  {
   "cell_type": "code",
   "execution_count": null,
   "id": "2aedf971",
   "metadata": {},
   "outputs": [],
   "source": [
    "xarray"
   ]
  },
  {
   "cell_type": "markdown",
   "id": "4b14f85f",
   "metadata": {},
   "source": [
    "## Raster to vector Analysis"
   ]
  },
  {
   "cell_type": "code",
   "execution_count": null,
   "id": "2cefc2fc",
   "metadata": {},
   "outputs": [],
   "source": [
    "# Raster to vector methods"
   ]
  },
  {
   "cell_type": "code",
   "execution_count": null,
   "id": "c9622997",
   "metadata": {},
   "outputs": [],
   "source": [
    "#rioxarray clip"
   ]
  },
  {
   "cell_type": "code",
   "execution_count": null,
   "id": "21df0f1e",
   "metadata": {},
   "outputs": [],
   "source": [
    "#rasterstats\n",
    "from rasterstats import zonal_stats, point_query\n",
    "stats = zonal_stats('tests/data/polygons.shp', 'tests/data/slope.tif')\n",
    "pts = point_query('tests/data/points.shp', 'tests/data/slope.tif')"
   ]
  },
  {
   "cell_type": "code",
   "execution_count": null,
   "id": "93ae9827",
   "metadata": {},
   "outputs": [],
   "source": [
    "# Writing a result"
   ]
  },
  {
   "cell_type": "code",
   "execution_count": null,
   "id": "3dc58e61",
   "metadata": {},
   "outputs": [],
   "source": [
    "# Register GDAL format drivers and configuration options with a\n",
    "# context manager.\n",
    "with rasterio.Env():\n",
    "\n",
    "    # Write an array as a raster band to a new 8-bit file. For\n",
    "    # the new file's profile, we start with the profile of the source\n",
    "    profile = src.profile\n",
    "\n",
    "    # And then change the band count to 1, set the\n",
    "    # dtype to uint8, and specify LZW compression.\n",
    "    profile.update(\n",
    "        dtype=rasterio.uint8,\n",
    "        count=1,\n",
    "        compress='lzw')\n",
    "\n",
    "    with rasterio.open('example.tif', 'w', **profile) as dst:\n",
    "        dst.write(array.astype(rasterio.uint8), 1)"
   ]
  }
 ],
 "metadata": {
  "kernelspec": {
   "display_name": "Python 3 (ipykernel)",
   "language": "python",
   "name": "python3"
  },
  "language_info": {
   "codemirror_mode": {
    "name": "ipython",
    "version": 3
   },
   "file_extension": ".py",
   "mimetype": "text/x-python",
   "name": "python",
   "nbconvert_exporter": "python",
   "pygments_lexer": "ipython3",
   "version": "3.9.18"
  }
 },
 "nbformat": 4,
 "nbformat_minor": 5
}
